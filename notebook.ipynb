{
 "cells": [
  {
   "cell_type": "markdown",
   "metadata": {},
   "source": [
    "# Dashboard: Student Status Engine                            "
   ]
  },
  {
   "cell_type": "markdown",
   "metadata": {},
   "source": [
    "Owner: Rakesh Katuwal\n",
    "\n",
    "This is a demo dashboard for Student Status Engine. We will be displaying the total user annotations, predictions in the system and accuracy.\n",
    "\n"
   ]
  },
  {
   "cell_type": "markdown",
   "metadata": {},
   "source": [
    "## Data Sources\n",
    "\n",
    "+ label_predictions.json: Pramesh passed this file to me in 12 August, 2020"
   ]
  },
  {
   "cell_type": "markdown",
   "metadata": {},
   "source": [
    "## Changes\n",
    "\n",
    "+ 12-08-2020: Started project"
   ]
  },
  {
   "cell_type": "markdown",
   "metadata": {},
   "source": [
    "## Things to do:\n",
    "\n",
    "+ Need to check the date (week) grouping carefully.\n",
    "+ Write a script to automatically run this script every Friday?\n",
    "+ Write a script to extract the required info from Snowflake (think about scalabilty: just fetch weekly info and update the dashboard)"
   ]
  },
  {
   "cell_type": "markdown",
   "metadata": {},
   "source": [
    "## Dataset Description and other notes"
   ]
  },
  {
   "cell_type": "markdown",
   "metadata": {},
   "source": [
    "+ courseId: course Id \n",
    "+ predictedUser: users Id\n",
    "+ originalLabel: prediction without any processing\n",
    "+ originalConfidence: the confidence score for the original label\n",
    "+ revisedLabel: predicted label after some processing (weight decay) --> need to use this for further processing\n",
    "+ revisedConfidence: the confidence score for the revised label, 0 for annotations by instructors\n",
    "+ predictedDate:\n",
    "+ predictBy: predicted by machine (MACH) or instructor (INS)\n",
    "+ createdDate: ask the team to fill these\n",
    "+ modifiedDate: \n",
    "+ createdUser:\n",
    "+ lastModifiedUser\n",
    "\n",
    "Note:\n",
    "+ Cold start: Green labels for all users at the beginning\n",
    "+ Revised label: Uses weight decay (ask the team to write exact details)\n",
    "+ Flag for colleges not implemented. Colleges can be identified by courseId? Need to confirm."
   ]
  },
  {
   "cell_type": "code",
   "execution_count": 1,
   "metadata": {},
   "outputs": [],
   "source": [
    "#for large datasets, use dask.dataframe\n",
    "import pandas as pd \n",
    "import numpy as np\n",
    "import json\n",
    "from pandas.io.json import json_normalize\n",
    "from pathlib import Path\n",
    "from datetime import datetime\n",
    "import matplotlib.pyplot as plt\n",
    "import seaborn as sns"
   ]
  },
  {
   "cell_type": "code",
   "execution_count": 3,
   "metadata": {},
   "outputs": [
    {
     "data": {
      "text/html": [
       "<div>\n",
       "<style scoped>\n",
       "    .dataframe tbody tr th:only-of-type {\n",
       "        vertical-align: middle;\n",
       "    }\n",
       "\n",
       "    .dataframe tbody tr th {\n",
       "        vertical-align: top;\n",
       "    }\n",
       "\n",
       "    .dataframe thead th {\n",
       "        text-align: right;\n",
       "    }\n",
       "</style>\n",
       "<table border=\"1\" class=\"dataframe\">\n",
       "  <thead>\n",
       "    <tr style=\"text-align: right;\">\n",
       "      <th></th>\n",
       "      <th>_id</th>\n",
       "      <th>revisedLabel</th>\n",
       "      <th>predictedUser</th>\n",
       "      <th>revisedConfidence</th>\n",
       "      <th>originalConfidence</th>\n",
       "      <th>originalLabel</th>\n",
       "      <th>courseId</th>\n",
       "      <th>predictedDate</th>\n",
       "      <th>predictBy</th>\n",
       "      <th>createdDate</th>\n",
       "      <th>modifiedDate</th>\n",
       "      <th>createdUser</th>\n",
       "      <th>lastModifiedUser</th>\n",
       "    </tr>\n",
       "  </thead>\n",
       "  <tbody>\n",
       "    <tr>\n",
       "      <th>0</th>\n",
       "      <td>{'$oid': '5edef29a97c7f5004251e05e'}</td>\n",
       "      <td>Green</td>\n",
       "      <td>5ec7dfa38d69d00042dabcbd</td>\n",
       "      <td>0.821</td>\n",
       "      <td>0.821</td>\n",
       "      <td>Green</td>\n",
       "      <td>5ec50642ab6f9b0043a1c19c</td>\n",
       "      <td>{'$date': 1591660800000}</td>\n",
       "      <td>MACH</td>\n",
       "      <td>{'$date': 1591669402612}</td>\n",
       "      <td>{'$date': 1591669402612}</td>\n",
       "      <td>NaN</td>\n",
       "      <td>NaN</td>\n",
       "    </tr>\n",
       "    <tr>\n",
       "      <th>1</th>\n",
       "      <td>{'$oid': '5edef29a97c7f5004251e05f'}</td>\n",
       "      <td>Green</td>\n",
       "      <td>5ec7dfa38d69d00042dabcbd</td>\n",
       "      <td>0.821</td>\n",
       "      <td>0.821</td>\n",
       "      <td>Green</td>\n",
       "      <td>5ec50642ab6f9b0043a1c1ac</td>\n",
       "      <td>{'$date': 1591660800000}</td>\n",
       "      <td>MACH</td>\n",
       "      <td>{'$date': 1591669402612}</td>\n",
       "      <td>{'$date': 1591669402612}</td>\n",
       "      <td>NaN</td>\n",
       "      <td>NaN</td>\n",
       "    </tr>\n",
       "    <tr>\n",
       "      <th>2</th>\n",
       "      <td>{'$oid': '5edef29a97c7f5004251e060'}</td>\n",
       "      <td>Green</td>\n",
       "      <td>5ec7dfa38d69d00042dabcbd</td>\n",
       "      <td>0.791</td>\n",
       "      <td>0.791</td>\n",
       "      <td>Green</td>\n",
       "      <td>5ec50642ab6f9b0043a1c1b0</td>\n",
       "      <td>{'$date': 1591660800000}</td>\n",
       "      <td>MACH</td>\n",
       "      <td>{'$date': 1591669402613}</td>\n",
       "      <td>{'$date': 1591669402613}</td>\n",
       "      <td>NaN</td>\n",
       "      <td>NaN</td>\n",
       "    </tr>\n",
       "    <tr>\n",
       "      <th>3</th>\n",
       "      <td>{'$oid': '5edef29a97c7f5004251e061'}</td>\n",
       "      <td>Green</td>\n",
       "      <td>5ec7dfa38d69d00042dabcbd</td>\n",
       "      <td>0.791</td>\n",
       "      <td>0.791</td>\n",
       "      <td>Green</td>\n",
       "      <td>5ec50642ab6f9b0043a1c1b4</td>\n",
       "      <td>{'$date': 1591660800000}</td>\n",
       "      <td>MACH</td>\n",
       "      <td>{'$date': 1591669402614}</td>\n",
       "      <td>{'$date': 1591669402614}</td>\n",
       "      <td>NaN</td>\n",
       "      <td>NaN</td>\n",
       "    </tr>\n",
       "    <tr>\n",
       "      <th>4</th>\n",
       "      <td>{'$oid': '5edef29a97c7f5004251e062'}</td>\n",
       "      <td>Green</td>\n",
       "      <td>5ec7db4a8d69d00042dabbc0</td>\n",
       "      <td>0.791</td>\n",
       "      <td>0.791</td>\n",
       "      <td>Green</td>\n",
       "      <td>5ec50642ab6f9b0043a1c196</td>\n",
       "      <td>{'$date': 1591660800000}</td>\n",
       "      <td>MACH</td>\n",
       "      <td>{'$date': 1591669402615}</td>\n",
       "      <td>{'$date': 1591669402615}</td>\n",
       "      <td>NaN</td>\n",
       "      <td>NaN</td>\n",
       "    </tr>\n",
       "  </tbody>\n",
       "</table>\n",
       "</div>"
      ],
      "text/plain": [
       "                                    _id revisedLabel  \\\n",
       "0  {'$oid': '5edef29a97c7f5004251e05e'}        Green   \n",
       "1  {'$oid': '5edef29a97c7f5004251e05f'}        Green   \n",
       "2  {'$oid': '5edef29a97c7f5004251e060'}        Green   \n",
       "3  {'$oid': '5edef29a97c7f5004251e061'}        Green   \n",
       "4  {'$oid': '5edef29a97c7f5004251e062'}        Green   \n",
       "\n",
       "              predictedUser revisedConfidence originalConfidence  \\\n",
       "0  5ec7dfa38d69d00042dabcbd             0.821              0.821   \n",
       "1  5ec7dfa38d69d00042dabcbd             0.821              0.821   \n",
       "2  5ec7dfa38d69d00042dabcbd             0.791              0.791   \n",
       "3  5ec7dfa38d69d00042dabcbd             0.791              0.791   \n",
       "4  5ec7db4a8d69d00042dabbc0             0.791              0.791   \n",
       "\n",
       "  originalLabel                  courseId             predictedDate predictBy  \\\n",
       "0         Green  5ec50642ab6f9b0043a1c19c  {'$date': 1591660800000}      MACH   \n",
       "1         Green  5ec50642ab6f9b0043a1c1ac  {'$date': 1591660800000}      MACH   \n",
       "2         Green  5ec50642ab6f9b0043a1c1b0  {'$date': 1591660800000}      MACH   \n",
       "3         Green  5ec50642ab6f9b0043a1c1b4  {'$date': 1591660800000}      MACH   \n",
       "4         Green  5ec50642ab6f9b0043a1c196  {'$date': 1591660800000}      MACH   \n",
       "\n",
       "                createdDate              modifiedDate createdUser  \\\n",
       "0  {'$date': 1591669402612}  {'$date': 1591669402612}         NaN   \n",
       "1  {'$date': 1591669402612}  {'$date': 1591669402612}         NaN   \n",
       "2  {'$date': 1591669402613}  {'$date': 1591669402613}         NaN   \n",
       "3  {'$date': 1591669402614}  {'$date': 1591669402614}         NaN   \n",
       "4  {'$date': 1591669402615}  {'$date': 1591669402615}         NaN   \n",
       "\n",
       "  lastModifiedUser  \n",
       "0              NaN  \n",
       "1              NaN  \n",
       "2              NaN  \n",
       "3              NaN  \n",
       "4              NaN  "
      ]
     },
     "execution_count": 3,
     "metadata": {},
     "output_type": "execute_result"
    }
   ],
   "source": [
    "raw_file = Path.cwd() / \"label_predictions.json\"\n",
    "\n",
    "with open(raw_file) as f:\n",
    "    data = json.load(f)\n",
    "\n",
    "# converting json dataset from dictionary to dataframe\n",
    "original_df = pd.DataFrame.from_dict(data)\n",
    "#df = pd.DataFrame.from_dict(json_normalize(data))\n",
    "original_df.head()"
   ]
  },
  {
   "cell_type": "code",
   "execution_count": 3,
   "metadata": {},
   "outputs": [
    {
     "data": {
      "text/plain": [
       "Index(['_id', 'revisedLabel', 'predictedUser', 'revisedConfidence',\n",
       "       'originalConfidence', 'originalLabel', 'courseId', 'predictedDate',\n",
       "       'predictBy', 'createdDate', 'modifiedDate', 'createdUser',\n",
       "       'lastModifiedUser'],\n",
       "      dtype='object')"
      ]
     },
     "execution_count": 3,
     "metadata": {},
     "output_type": "execute_result"
    }
   ],
   "source": [
    "original_df.columns"
   ]
  },
  {
   "cell_type": "code",
   "execution_count": 4,
   "metadata": {},
   "outputs": [],
   "source": [
    "pd.set_option('mode.chained_assignment', None)\n",
    "\n",
    "# Creating new dataframe with just the columns needed\n",
    "df = original_df[['predictedUser','courseId','revisedLabel','revisedConfidence','predictBy','createdDate','predictedDate','modifiedDate']]\n",
    "\n",
    "# Prediction dates for instructors are NaN. Filtering predictions by MACH.\n",
    "df_MACH = df[df['predictedDate'].notna()]\n",
    "\n",
    "# Extracting date values from dictionary\n",
    "df_MACH['predictedDate'] = [dates.get('$date') for dates in df_MACH.predictedDate]\n",
    "\n",
    "# Convert epoch time to human-readable date and time \n",
    "#df_MACH['predictedDate'] = df_MACH.predictedDate.map(lambda x: datetime.fromtimestamp(x/1000).strftime(\"%Y-%m-%d\"))\n",
    "df_MACH['predictedDate'] = pd.to_datetime(df_MACH['predictedDate'],unit='ms')\n",
    "#df_MACH.head()"
   ]
  },
  {
   "cell_type": "code",
   "execution_count": 5,
   "metadata": {},
   "outputs": [
    {
     "data": {
      "text/plain": [
       "<matplotlib.axes._subplots.AxesSubplot at 0x7efbe34ea690>"
      ]
     },
     "execution_count": 5,
     "metadata": {},
     "output_type": "execute_result"
    },
    {
     "data": {
      "image/png": "[encoded data removed]",
      "text/plain": [
       "<Figure size 432x288 with 1 Axes>"
      ]
     },
     "metadata": {
      "needs_background": "light"
     },
     "output_type": "display_data"
    }
   ],
   "source": [
    "# Bin the dates by weeks and compute the weekly predcitions made by the machine\n",
    "# The first week starts from 07-06-2020\n",
    "\n",
    "predictions_MACH_week = df_MACH.predictedDate.groupby(df_MACH.predictedDate.dt.week).count()\n",
    "predictions_MACH_week.plot(kind='bar',title='Predictions per week')\n",
    "# df_MACH[df_MACH.predictedDate==pd.Timestamp(2020,6,9)].count()\n",
    "# value_to_check = pd.Timestamp(2020, 6, 10)\n",
    "# filter_mask = df_MACH['predictedDate'] < value_to_check\n",
    "# filtered_df = df_MACH[filter_mask]\n",
    "# filtered_df.count()"
   ]
  },
  {
   "cell_type": "code",
   "execution_count": null,
   "metadata": {},
   "outputs": [],
   "source": []
  }
 ],
 "metadata": {
  "kernelspec": {
   "display_name": "Python 3",
   "language": "python",
   "name": "python3"
  },
  "language_info": {
   "codemirror_mode": {
    "name": "ipython",
    "version": 3
   },
   "file_extension": ".py",
   "mimetype": "text/x-python",
   "name": "python",
   "nbconvert_exporter": "python",
   "pygments_lexer": "ipython3",
   "version": "3.7.6"
  }
 },
 "nbformat": 4,
 "nbformat_minor": 4
}
